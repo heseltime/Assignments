{
 "cells": [
  {
   "cell_type": "markdown",
   "metadata": {},
   "source": [
    "Aufgaben zu LINQ\n",
    "================"
   ]
  },
  {
   "cell_type": "markdown",
   "metadata": {},
   "source": [
    "Gegeben sei folgende Listen von Studierenden. Führen Sie auf diesem Datenbestand\n",
    "die nachfolgend angeführten LINQ-Abfragen durch."
   ]
  },
  {
   "cell_type": "code",
   "execution_count": 3,
   "metadata": {
    "dotnet_interactive": {
     "language": "csharp"
    },
    "vscode": {
     "languageId": "polyglot-notebook"
    }
   },
   "outputs": [],
   "source": [
    "record Student (string MatNr, string Name, string Subject, int[] Grades);\n",
    "\n",
    "IEnumerable<Student> students = new List<Student> {\n",
    "  new (\"s12345\", \"Huber\",   \"Se\", new [] { 2, 3, 2, 1, 3 }),\n",
    "  new (\"s12388\", \"Mayr\",    \"MC\", new [] { 1, 2, 3, 2, 1 }),\n",
    "  new (\"s12321\", \"Bauer\",   \"se\", new [] { 3, 5, 5, 2, 3 }),\n",
    "  new (\"s12353\", \"Schmidt\", \"SE\", new [] { 2, 4, 3, 2, 1 }),\n",
    "};"
   ]
  },
  {
   "cell_type": "markdown",
   "metadata": {},
   "source": [
    "## Aufgabe 1\n",
    "Erstellen Sie eine Liste aller Studierenden des Studiengangs `SE`\n",
    "(Groß/Kleinschreibung ist irrelevant), welche als Elemente die Matrikelnummern und die Namen\n",
    "der Studierenden, nicht aber deren Noten enthält. Verwenden Sie dazu\n",
    "LINQ-Syntax. Geben Sie diese Liste anschließend aus."
   ]
  },
  {
   "cell_type": "code",
   "execution_count": 13,
   "metadata": {
    "dotnet_interactive": {
     "language": "csharp"
    },
    "polyglot_notebook": {
     "kernelName": "csharp"
    },
    "vscode": {
     "languageId": "polyglot-notebook"
    }
   },
   "outputs": [],
   "source": [
    "void Print<T>(IEnumerable<T> items)\n",
    "{\n",
    "    //Console.WriteLine();\n",
    "    foreach (var item in items)\n",
    "    {\n",
    "        Console.WriteLine(item);\n",
    "    }\n",
    "}"
   ]
  },
  {
   "cell_type": "code",
   "execution_count": 14,
   "metadata": {
    "dotnet_interactive": {
     "language": "csharp"
    },
    "vscode": {
     "languageId": "polyglot-notebook"
    }
   },
   "outputs": [
    {
     "name": "stdout",
     "output_type": "stream",
     "text": [
      "{ MatNr = s12345, Name = Huber, Subject = Se }\n",
      "{ MatNr = s12321, Name = Bauer, Subject = se }\n",
      "{ MatNr = s12353, Name = Schmidt, Subject = SE }\n"
     ]
    }
   ],
   "source": [
    "// TODO\n",
    "\n",
    "var studentList = \n",
    "from student in students\n",
    "where student.Subject.Equals(\"SE\", StringComparison.InvariantCultureIgnoreCase)\n",
    "select new {\n",
    "    student.MatNr, \n",
    "    student.Name, \n",
    "    student.Subject\n",
    "    };\n",
    "\n",
    "Print(studentList);"
   ]
  },
  {
   "cell_type": "markdown",
   "metadata": {},
   "source": [
    "## Aufgabe 2\n",
    "Implementieren Sie die LINQ-Abfrage aus Beispiel 1 unter ausschließlicher Verwendung von Erweiterungsmethoden."
   ]
  },
  {
   "cell_type": "code",
   "execution_count": 15,
   "metadata": {
    "dotnet_interactive": {
     "language": "csharp"
    },
    "vscode": {
     "languageId": "polyglot-notebook"
    }
   },
   "outputs": [
    {
     "name": "stdout",
     "output_type": "stream",
     "text": [
      "{ MatNr = s12345, Name = Huber, Subject = Se }\n",
      "{ MatNr = s12321, Name = Bauer, Subject = se }\n",
      "{ MatNr = s12353, Name = Schmidt, Subject = SE }\n"
     ]
    }
   ],
   "source": [
    "// TODO\n",
    "\n",
    "var studentList2 = students\n",
    "    .Where(student => student.Subject.Equals(\"SE\", StringComparison.InvariantCultureIgnoreCase))\n",
    "    .Select(student => new {\n",
    "        student.MatNr, \n",
    "        student.Name, \n",
    "        student.Subject\n",
    "        });\n",
    "\n",
    "Print(studentList2);"
   ]
  },
  {
   "cell_type": "markdown",
   "metadata": {},
   "source": [
    "## Aufgabe 3\n",
    "Ermitteln Sie alle Studierende, welche jede LVA mit mindestens \"Befriedigend\"\n",
    "abgeschlossen haben. *Hinweis:* Verwenden Sie die Erweiterungsmethode `bool All<T> (this IEnumerable<T> source, Func<T,bool> predicate)`."
   ]
  },
  {
   "cell_type": "code",
   "execution_count": 17,
   "metadata": {
    "dotnet_interactive": {
     "language": "csharp"
    },
    "vscode": {
     "languageId": "polyglot-notebook"
    }
   },
   "outputs": [
    {
     "name": "stdout",
     "output_type": "stream",
     "text": [
      "{ MatNr = s12345, Name = Huber, Subject = Se }\n",
      "{ MatNr = s12388, Name = Mayr, Subject = MC }\n"
     ]
    }
   ],
   "source": [
    "// TODO        \n",
    "\n",
    "var studentList3 = students\n",
    "    .Where(student => student.Grades.All(grade => grade <= 3))\n",
    "    .Select(student => new {\n",
    "        student.MatNr, \n",
    "        student.Name, \n",
    "        student.Subject\n",
    "        });\n",
    "\n",
    "Print(studentList3);"
   ]
  },
  {
   "cell_type": "markdown",
   "metadata": {},
   "source": [
    "## Aufgabe 4\n",
    "Erstellen Sie eine Liste mit den Namen und den Durchschnittsnoten aller\n",
    "Studierenden. Die Liste soll aufsteigend nach der Durchschnittsnote sortiert sein."
   ]
  },
  {
   "cell_type": "code",
   "execution_count": 23,
   "metadata": {
    "dotnet_interactive": {
     "language": "csharp"
    },
    "vscode": {
     "languageId": "polyglot-notebook"
    }
   },
   "outputs": [
    {
     "name": "stdout",
     "output_type": "stream",
     "text": [
      "{ Name = Bauer, Average = 3.6 }\n",
      "{ Name = Schmidt, Average = 2.4 }\n",
      "{ Name = Huber, Average = 2.2 }\n",
      "{ Name = Mayr, Average = 1.8 }\n"
     ]
    }
   ],
   "source": [
    "// TODO \n",
    "\n",
    "var studentList4 = \n",
    "    from student in students\n",
    "    orderby student.Grades.Average() descending\n",
    "    select new {\n",
    "        student.Name, \n",
    "        Average = student.Grades.Average()\n",
    "        };\n",
    "\n",
    "Print(studentList4);"
   ]
  },
  {
   "cell_type": "markdown",
   "metadata": {},
   "source": [
    "## Aufgabe 5\n",
    "Ermitteln Sie für den Studierenden mit der Matrikelnummer `s12321` eine\n",
    "Notenliste, in welcher die Noten in der Langform (\"Sehr gut\", \"Gut\", ...)\n",
    "angegeben werden. Übernehmen Sie die Note aus dem Feld `gradeStrings`."
   ]
  },
  {
   "cell_type": "code",
   "execution_count": null,
   "metadata": {
    "dotnet_interactive": {
     "language": "csharp"
    },
    "vscode": {
     "languageId": "polyglot-notebook"
    }
   },
   "outputs": [],
   "source": [
    "var gradeStrings = new [] { \"Sehr gut\", \"Gut\", \"Befriedigend\", \"Genügend\", \"Nicht genügend\" };\n",
    "\n",
    "// TODO"
   ]
  }
 ],
 "metadata": {
  "kernelspec": {
   "display_name": ".NET (C#)",
   "language": "C#",
   "name": ".net-csharp"
  },
  "language_info": {
   "name": "C#"
  }
 },
 "nbformat": 4,
 "nbformat_minor": 2
}
