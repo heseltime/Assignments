{
 "metadata": {
  "kernelspec": {
   "display_name": ".NET (C#)",
   "language": "C#",
   "name": ".net-csharp"
  },
  "language_info": {
   "name": "C#"
  }
 },
 "cells": [
  {
   "cell_type": "markdown",
   "source": [
    "Aufgaben zu async/await\r\n",
    "======================="
   ],
   "metadata": {}
  },
  {
   "cell_type": "markdown",
   "source": [
    "Analysieren Sie die nachfolgend angegebenen Methoden. Lösen Sie auf Basis dieser\r\n",
    "Methoden untenstehende Aufgaben."
   ],
   "metadata": {}
  },
  {
   "cell_type": "code",
   "execution_count": null,
   "source": [
    "async static Task<IEnumerable<T>> FilterAsync<T>(this IEnumerable<T> items, Func<T, bool> predicate) \r\n",
    "{\r\n",
    "  var result = new List<T>();\r\n",
    "  foreach (var item in items)\r\n",
    "  {\r\n",
    "    await Task.Delay(100);\r\n",
    "    if (predicate(item))\r\n",
    "    {\r\n",
    "      result.Add(item);\r\n",
    "    }\r\n",
    "  }\r\n",
    "  return result;\r\n",
    "}\r\n",
    "\r\n",
    "static bool IsPrime(int n) => n>=2 && !Enumerable.Range(2, (int)Math.Sqrt(n+1)-1).Any(i => n%i==0);"
   ],
   "outputs": [],
   "metadata": {
    "dotnet_interactive": {
     "language": "csharp"
    }
   }
  },
  {
   "cell_type": "markdown",
   "source": [
    "## Aufgabe 1\r\n",
    "Ermitteln Sie alle Primzahlen im Bereich von 1 bis 20."
   ],
   "metadata": {}
  },
  {
   "cell_type": "code",
   "execution_count": null,
   "source": [
    "// TODO"
   ],
   "outputs": [],
   "metadata": {
    "dotnet_interactive": {
     "language": "csharp"
    }
   }
  },
  {
   "cell_type": "markdown",
   "source": [
    "## Aufgabe 2\r\n",
    "Ermitteln Sie alle Primzahlen im Interval [1,20], indem Sie die\r\n",
    "Primzahlenbestimmung *parallel* auf den Intervallen [1,10] und [11,20]\r\n",
    "durchführen und anschließend die Teilergebnisse zusammenfügen\r\n",
    "(`IEnumerable.Concat`). Vergleich Sie die Laufzeit dieser Variante mit jeder aus\r\n",
    "Aufgabe 1."
   ],
   "metadata": {}
  },
  {
   "cell_type": "code",
   "execution_count": null,
   "source": [
    "// TODO"
   ],
   "outputs": [],
   "metadata": {
    "dotnet_interactive": {
     "language": "csharp"
    }
   }
  }
 ],
 "nbformat": 4,
 "nbformat_minor": 2
}